{
  "nbformat": 4,
  "nbformat_minor": 0,
  "metadata": {
    "colab": {
      "name": "HeartFailure.ipynb",
      "provenance": [],
      "collapsed_sections": [],
      "toc_visible": true
    },
    "kernelspec": {
      "display_name": "Python 3",
      "language": "python",
      "name": "python3"
    },
    "language_info": {
      "codemirror_mode": {
        "name": "ipython",
        "version": 3
      },
      "file_extension": ".py",
      "mimetype": "text/x-python",
      "name": "python",
      "nbconvert_exporter": "python",
      "pygments_lexer": "ipython3",
      "version": "3.7.4"
    },
    "toc": {
      "base_numbering": 1,
      "nav_menu": {},
      "number_sections": true,
      "sideBar": true,
      "skip_h1_title": true,
      "title_cell": "Table of Contents",
      "title_sidebar": "Contents",
      "toc_cell": false,
      "toc_position": {
        "height": "calc(100% - 180px)",
        "left": "10px",
        "top": "150px",
        "width": "165px"
      },
      "toc_section_display": true,
      "toc_window_display": true
    }
  },
  "cells": [
    {
      "cell_type": "markdown",
      "metadata": {
        "id": "AbJW8fH9XWCX"
      },
      "source": [
        "# Прогноз сердечной недостаточности"
      ]
    },
    {
      "cell_type": "markdown",
      "metadata": {
        "id": "Q54-vnbvXWCc"
      },
      "source": [
        "Сердечно-сосудистые заболевания (ССЗ) являются причиной смерти номер 1 во всем мире, ежегодно унося около 17,9 миллионов жизней, что составляет 31% всех смертей в мире. Сердечная недостаточность - частое явление, вызываемое сердечно-сосудистыми заболеваниями, и этот набор данных содержит 12 функций, которые можно использовать для прогнозирования смертности от сердечной недостаточности. Большинство сердечно-сосудистых заболеваний можно предотвратить путем устранения поведенческих факторов риска, таких как употребление табака, нездоровое питание и ожирение, недостаточная физическая активность и вредное употребление алкоголя, с использованием стратегий, охватывающих все население. Людям с сердечно-сосудистыми заболеваниями или людям с высоким сердечно-сосудистым риском (из-за наличия одного или нескольких факторов риска, таких как гипертония, диабет, гиперлипидемия или уже установленное заболевание) необходимо раннее выявление и лечение, при этом модель машинного обучения может оказаться очень полезной.\n",
        "\n",
        "**Постановка задачи:**\n",
        "\n",
        "Создать модель для оценки вероятности смерти от сердечной недостаточности. Это может быть использовано для помощи больницам в оценке степени тяжести пациентов с сердечно-сосудистыми заболеваниями.\n",
        "\n",
        "*Dataset from Davide Chicco, Giuseppe Jurman: Machine learning can predict survival of patients with heart failure from serum creatinine and ejection fraction alone. BMC Medical Informatics and Decision Making 20, 16 (2020).*"
      ]
    },
    {
      "cell_type": "markdown",
      "metadata": {
        "id": "e7FC837-XWCc"
      },
      "source": [
        "## Импорты"
      ]
    },
    {
      "cell_type": "code",
      "metadata": {
        "id": "GJTeerH5XWCd",
        "colab": {
          "base_uri": "https://localhost:8080/"
        },
        "outputId": "a018235c-977f-42e5-a238-6d994a77e9a6"
      },
      "source": [
        "import numpy as np\n",
        "import pandas as pd\n",
        "import matplotlib.pyplot as plt\n",
        "%matplotlib inline\n",
        "import seaborn as sns\n",
        "sns.set(font_scale = 1)      \n",
        "\n",
        "from sklearn.model_selection import train_test_split\n",
        "\n",
        "from sklearn.linear_model import LogisticRegression,LogisticRegressionCV\n",
        "from sklearn.metrics import accuracy_score, roc_auc_score, recall_score\n",
        "from sklearn.model_selection import GridSearchCV\n",
        "from sklearn.preprocessing import MinMaxScaler, StandardScaler, RobustScaler\n",
        "from sklearn.ensemble import RandomForestClassifier\n",
        "from sklearn.tree import DecisionTreeClassifier\n",
        "from xgboost import XGBClassifier\n",
        "from sklearn.neighbors import KNeighborsClassifier\n",
        "from sklearn.pipeline import make_pipeline\n",
        "from sklearn.compose import make_column_transformer\n",
        "from imblearn.over_sampling import SMOTE"
      ],
      "execution_count": null,
      "outputs": [
        {
          "output_type": "stream",
          "text": [
            "/usr/local/lib/python3.7/dist-packages/sklearn/externals/six.py:31: FutureWarning: The module is deprecated in version 0.21 and will be removed in version 0.23 since we've dropped support for Python 2.7. Please rely on the official version of six (https://pypi.org/project/six/).\n",
            "  \"(https://pypi.org/project/six/).\", FutureWarning)\n",
            "/usr/local/lib/python3.7/dist-packages/sklearn/utils/deprecation.py:144: FutureWarning: The sklearn.neighbors.base module is  deprecated in version 0.22 and will be removed in version 0.24. The corresponding classes / functions should instead be imported from sklearn.neighbors. Anything that cannot be imported from sklearn.neighbors is now part of the private API.\n",
            "  warnings.warn(message, FutureWarning)\n"
          ],
          "name": "stderr"
        }
      ]
    },
    {
      "cell_type": "markdown",
      "metadata": {
        "id": "8HYQGENWXWCd"
      },
      "source": [
        "## Чтение и предобработка данных"
      ]
    },
    {
      "cell_type": "markdown",
      "metadata": {
        "id": "5su2l7iiXWCe"
      },
      "source": [
        "В датасете имеется набор параметров, позволяющих оценить вероятность летального исхода от сердечной недостаточности."
      ]
    },
    {
      "cell_type": "code",
      "metadata": {
        "colab": {
          "base_uri": "https://localhost:8080/",
          "height": 224
        },
        "id": "TE1-5ma9XWCe",
        "outputId": "6aea7571-b9e3-47bb-ce8d-f650fd38ca36"
      },
      "source": [
        "heart = pd.read_csv('heart_failure_clinical_records_dataset.csv')\n",
        "heart.head(5)"
      ],
      "execution_count": null,
      "outputs": [
        {
          "output_type": "execute_result",
          "data": {
            "text/html": [
              "<div>\n",
              "<style scoped>\n",
              "    .dataframe tbody tr th:only-of-type {\n",
              "        vertical-align: middle;\n",
              "    }\n",
              "\n",
              "    .dataframe tbody tr th {\n",
              "        vertical-align: top;\n",
              "    }\n",
              "\n",
              "    .dataframe thead th {\n",
              "        text-align: right;\n",
              "    }\n",
              "</style>\n",
              "<table border=\"1\" class=\"dataframe\">\n",
              "  <thead>\n",
              "    <tr style=\"text-align: right;\">\n",
              "      <th></th>\n",
              "      <th>age</th>\n",
              "      <th>anaemia</th>\n",
              "      <th>creatinine_phosphokinase</th>\n",
              "      <th>diabetes</th>\n",
              "      <th>ejection_fraction</th>\n",
              "      <th>high_blood_pressure</th>\n",
              "      <th>platelets</th>\n",
              "      <th>serum_creatinine</th>\n",
              "      <th>serum_sodium</th>\n",
              "      <th>sex</th>\n",
              "      <th>smoking</th>\n",
              "      <th>time</th>\n",
              "      <th>DEATH_EVENT</th>\n",
              "    </tr>\n",
              "  </thead>\n",
              "  <tbody>\n",
              "    <tr>\n",
              "      <th>0</th>\n",
              "      <td>75.0</td>\n",
              "      <td>0</td>\n",
              "      <td>582</td>\n",
              "      <td>0</td>\n",
              "      <td>20</td>\n",
              "      <td>1</td>\n",
              "      <td>265000.00</td>\n",
              "      <td>1.9</td>\n",
              "      <td>130</td>\n",
              "      <td>1</td>\n",
              "      <td>0</td>\n",
              "      <td>4</td>\n",
              "      <td>1</td>\n",
              "    </tr>\n",
              "    <tr>\n",
              "      <th>1</th>\n",
              "      <td>55.0</td>\n",
              "      <td>0</td>\n",
              "      <td>7861</td>\n",
              "      <td>0</td>\n",
              "      <td>38</td>\n",
              "      <td>0</td>\n",
              "      <td>263358.03</td>\n",
              "      <td>1.1</td>\n",
              "      <td>136</td>\n",
              "      <td>1</td>\n",
              "      <td>0</td>\n",
              "      <td>6</td>\n",
              "      <td>1</td>\n",
              "    </tr>\n",
              "    <tr>\n",
              "      <th>2</th>\n",
              "      <td>65.0</td>\n",
              "      <td>0</td>\n",
              "      <td>146</td>\n",
              "      <td>0</td>\n",
              "      <td>20</td>\n",
              "      <td>0</td>\n",
              "      <td>162000.00</td>\n",
              "      <td>1.3</td>\n",
              "      <td>129</td>\n",
              "      <td>1</td>\n",
              "      <td>1</td>\n",
              "      <td>7</td>\n",
              "      <td>1</td>\n",
              "    </tr>\n",
              "    <tr>\n",
              "      <th>3</th>\n",
              "      <td>50.0</td>\n",
              "      <td>1</td>\n",
              "      <td>111</td>\n",
              "      <td>0</td>\n",
              "      <td>20</td>\n",
              "      <td>0</td>\n",
              "      <td>210000.00</td>\n",
              "      <td>1.9</td>\n",
              "      <td>137</td>\n",
              "      <td>1</td>\n",
              "      <td>0</td>\n",
              "      <td>7</td>\n",
              "      <td>1</td>\n",
              "    </tr>\n",
              "    <tr>\n",
              "      <th>4</th>\n",
              "      <td>65.0</td>\n",
              "      <td>1</td>\n",
              "      <td>160</td>\n",
              "      <td>1</td>\n",
              "      <td>20</td>\n",
              "      <td>0</td>\n",
              "      <td>327000.00</td>\n",
              "      <td>2.7</td>\n",
              "      <td>116</td>\n",
              "      <td>0</td>\n",
              "      <td>0</td>\n",
              "      <td>8</td>\n",
              "      <td>1</td>\n",
              "    </tr>\n",
              "  </tbody>\n",
              "</table>\n",
              "</div>"
            ],
            "text/plain": [
              "    age  anaemia  creatinine_phosphokinase  ...  smoking  time  DEATH_EVENT\n",
              "0  75.0        0                       582  ...        0     4            1\n",
              "1  55.0        0                      7861  ...        0     6            1\n",
              "2  65.0        0                       146  ...        1     7            1\n",
              "3  50.0        1                       111  ...        0     7            1\n",
              "4  65.0        1                       160  ...        0     8            1\n",
              "\n",
              "[5 rows x 13 columns]"
            ]
          },
          "metadata": {
            "tags": []
          },
          "execution_count": 2
        }
      ]
    },
    {
      "cell_type": "markdown",
      "metadata": {
        "id": "9pxgTm4wXWCf"
      },
      "source": [
        "Переменная time обозначает количество дней, которые прошли с момента предыдущего наблюдения."
      ]
    },
    {
      "cell_type": "markdown",
      "metadata": {
        "id": "be2s6-cuXWCf"
      },
      "source": [
        "Проверим типы данных и наличие отсутствующих значений."
      ]
    },
    {
      "cell_type": "code",
      "metadata": {
        "colab": {
          "base_uri": "https://localhost:8080/"
        },
        "id": "hBrwW1jgXWCf",
        "outputId": "e4bc7ecf-1b2d-43c9-9b51-4c13757f54d7"
      },
      "source": [
        "heart.info()"
      ],
      "execution_count": null,
      "outputs": [
        {
          "output_type": "stream",
          "text": [
            "<class 'pandas.core.frame.DataFrame'>\n",
            "RangeIndex: 299 entries, 0 to 298\n",
            "Data columns (total 13 columns):\n",
            " #   Column                    Non-Null Count  Dtype  \n",
            "---  ------                    --------------  -----  \n",
            " 0   age                       299 non-null    float64\n",
            " 1   anaemia                   299 non-null    int64  \n",
            " 2   creatinine_phosphokinase  299 non-null    int64  \n",
            " 3   diabetes                  299 non-null    int64  \n",
            " 4   ejection_fraction         299 non-null    int64  \n",
            " 5   high_blood_pressure       299 non-null    int64  \n",
            " 6   platelets                 299 non-null    float64\n",
            " 7   serum_creatinine          299 non-null    float64\n",
            " 8   serum_sodium              299 non-null    int64  \n",
            " 9   sex                       299 non-null    int64  \n",
            " 10  smoking                   299 non-null    int64  \n",
            " 11  time                      299 non-null    int64  \n",
            " 12  DEATH_EVENT               299 non-null    int64  \n",
            "dtypes: float64(3), int64(10)\n",
            "memory usage: 30.5 KB\n"
          ],
          "name": "stdout"
        }
      ]
    },
    {
      "cell_type": "markdown",
      "metadata": {
        "id": "G4KjnirkXWCf"
      },
      "source": [
        "Видно, что все данные представлены в числовом формате и не имеют пропусков."
      ]
    },
    {
      "cell_type": "code",
      "metadata": {
        "colab": {
          "base_uri": "https://localhost:8080/",
          "height": 317
        },
        "id": "n0OxycJuXWCg",
        "outputId": "db05b359-454e-4f62-bd12-0f027bc2b4c5"
      },
      "source": [
        "heart.describe()"
      ],
      "execution_count": null,
      "outputs": [
        {
          "output_type": "execute_result",
          "data": {
            "text/html": [
              "<div>\n",
              "<style scoped>\n",
              "    .dataframe tbody tr th:only-of-type {\n",
              "        vertical-align: middle;\n",
              "    }\n",
              "\n",
              "    .dataframe tbody tr th {\n",
              "        vertical-align: top;\n",
              "    }\n",
              "\n",
              "    .dataframe thead th {\n",
              "        text-align: right;\n",
              "    }\n",
              "</style>\n",
              "<table border=\"1\" class=\"dataframe\">\n",
              "  <thead>\n",
              "    <tr style=\"text-align: right;\">\n",
              "      <th></th>\n",
              "      <th>age</th>\n",
              "      <th>anaemia</th>\n",
              "      <th>creatinine_phosphokinase</th>\n",
              "      <th>diabetes</th>\n",
              "      <th>ejection_fraction</th>\n",
              "      <th>high_blood_pressure</th>\n",
              "      <th>platelets</th>\n",
              "      <th>serum_creatinine</th>\n",
              "      <th>serum_sodium</th>\n",
              "      <th>sex</th>\n",
              "      <th>smoking</th>\n",
              "      <th>time</th>\n",
              "      <th>DEATH_EVENT</th>\n",
              "    </tr>\n",
              "  </thead>\n",
              "  <tbody>\n",
              "    <tr>\n",
              "      <th>count</th>\n",
              "      <td>299.000000</td>\n",
              "      <td>299.000000</td>\n",
              "      <td>299.000000</td>\n",
              "      <td>299.000000</td>\n",
              "      <td>299.000000</td>\n",
              "      <td>299.000000</td>\n",
              "      <td>299.000000</td>\n",
              "      <td>299.00000</td>\n",
              "      <td>299.000000</td>\n",
              "      <td>299.000000</td>\n",
              "      <td>299.00000</td>\n",
              "      <td>299.000000</td>\n",
              "      <td>299.00000</td>\n",
              "    </tr>\n",
              "    <tr>\n",
              "      <th>mean</th>\n",
              "      <td>60.833893</td>\n",
              "      <td>0.431438</td>\n",
              "      <td>581.839465</td>\n",
              "      <td>0.418060</td>\n",
              "      <td>38.083612</td>\n",
              "      <td>0.351171</td>\n",
              "      <td>263358.029264</td>\n",
              "      <td>1.39388</td>\n",
              "      <td>136.625418</td>\n",
              "      <td>0.648829</td>\n",
              "      <td>0.32107</td>\n",
              "      <td>130.260870</td>\n",
              "      <td>0.32107</td>\n",
              "    </tr>\n",
              "    <tr>\n",
              "      <th>std</th>\n",
              "      <td>11.894809</td>\n",
              "      <td>0.496107</td>\n",
              "      <td>970.287881</td>\n",
              "      <td>0.494067</td>\n",
              "      <td>11.834841</td>\n",
              "      <td>0.478136</td>\n",
              "      <td>97804.236869</td>\n",
              "      <td>1.03451</td>\n",
              "      <td>4.412477</td>\n",
              "      <td>0.478136</td>\n",
              "      <td>0.46767</td>\n",
              "      <td>77.614208</td>\n",
              "      <td>0.46767</td>\n",
              "    </tr>\n",
              "    <tr>\n",
              "      <th>min</th>\n",
              "      <td>40.000000</td>\n",
              "      <td>0.000000</td>\n",
              "      <td>23.000000</td>\n",
              "      <td>0.000000</td>\n",
              "      <td>14.000000</td>\n",
              "      <td>0.000000</td>\n",
              "      <td>25100.000000</td>\n",
              "      <td>0.50000</td>\n",
              "      <td>113.000000</td>\n",
              "      <td>0.000000</td>\n",
              "      <td>0.00000</td>\n",
              "      <td>4.000000</td>\n",
              "      <td>0.00000</td>\n",
              "    </tr>\n",
              "    <tr>\n",
              "      <th>25%</th>\n",
              "      <td>51.000000</td>\n",
              "      <td>0.000000</td>\n",
              "      <td>116.500000</td>\n",
              "      <td>0.000000</td>\n",
              "      <td>30.000000</td>\n",
              "      <td>0.000000</td>\n",
              "      <td>212500.000000</td>\n",
              "      <td>0.90000</td>\n",
              "      <td>134.000000</td>\n",
              "      <td>0.000000</td>\n",
              "      <td>0.00000</td>\n",
              "      <td>73.000000</td>\n",
              "      <td>0.00000</td>\n",
              "    </tr>\n",
              "    <tr>\n",
              "      <th>50%</th>\n",
              "      <td>60.000000</td>\n",
              "      <td>0.000000</td>\n",
              "      <td>250.000000</td>\n",
              "      <td>0.000000</td>\n",
              "      <td>38.000000</td>\n",
              "      <td>0.000000</td>\n",
              "      <td>262000.000000</td>\n",
              "      <td>1.10000</td>\n",
              "      <td>137.000000</td>\n",
              "      <td>1.000000</td>\n",
              "      <td>0.00000</td>\n",
              "      <td>115.000000</td>\n",
              "      <td>0.00000</td>\n",
              "    </tr>\n",
              "    <tr>\n",
              "      <th>75%</th>\n",
              "      <td>70.000000</td>\n",
              "      <td>1.000000</td>\n",
              "      <td>582.000000</td>\n",
              "      <td>1.000000</td>\n",
              "      <td>45.000000</td>\n",
              "      <td>1.000000</td>\n",
              "      <td>303500.000000</td>\n",
              "      <td>1.40000</td>\n",
              "      <td>140.000000</td>\n",
              "      <td>1.000000</td>\n",
              "      <td>1.00000</td>\n",
              "      <td>203.000000</td>\n",
              "      <td>1.00000</td>\n",
              "    </tr>\n",
              "    <tr>\n",
              "      <th>max</th>\n",
              "      <td>95.000000</td>\n",
              "      <td>1.000000</td>\n",
              "      <td>7861.000000</td>\n",
              "      <td>1.000000</td>\n",
              "      <td>80.000000</td>\n",
              "      <td>1.000000</td>\n",
              "      <td>850000.000000</td>\n",
              "      <td>9.40000</td>\n",
              "      <td>148.000000</td>\n",
              "      <td>1.000000</td>\n",
              "      <td>1.00000</td>\n",
              "      <td>285.000000</td>\n",
              "      <td>1.00000</td>\n",
              "    </tr>\n",
              "  </tbody>\n",
              "</table>\n",
              "</div>"
            ],
            "text/plain": [
              "              age     anaemia  ...        time  DEATH_EVENT\n",
              "count  299.000000  299.000000  ...  299.000000    299.00000\n",
              "mean    60.833893    0.431438  ...  130.260870      0.32107\n",
              "std     11.894809    0.496107  ...   77.614208      0.46767\n",
              "min     40.000000    0.000000  ...    4.000000      0.00000\n",
              "25%     51.000000    0.000000  ...   73.000000      0.00000\n",
              "50%     60.000000    0.000000  ...  115.000000      0.00000\n",
              "75%     70.000000    1.000000  ...  203.000000      1.00000\n",
              "max     95.000000    1.000000  ...  285.000000      1.00000\n",
              "\n",
              "[8 rows x 13 columns]"
            ]
          },
          "metadata": {
            "tags": []
          },
          "execution_count": 4
        }
      ]
    },
    {
      "cell_type": "markdown",
      "metadata": {
        "id": "e-w3VFDmXWCg"
      },
      "source": [
        "Исследуем целевой столбец:"
      ]
    },
    {
      "cell_type": "code",
      "metadata": {
        "colab": {
          "base_uri": "https://localhost:8080/"
        },
        "id": "2RJTH16uXWCg",
        "outputId": "2cbc91b5-b68f-4820-dfe4-67e8db3357c1"
      },
      "source": [
        "heart.DEATH_EVENT.value_counts()"
      ],
      "execution_count": null,
      "outputs": [
        {
          "output_type": "execute_result",
          "data": {
            "text/plain": [
              "0    203\n",
              "1     96\n",
              "Name: DEATH_EVENT, dtype: int64"
            ]
          },
          "metadata": {
            "tags": []
          },
          "execution_count": 5
        }
      ]
    },
    {
      "cell_type": "markdown",
      "metadata": {
        "id": "HtEaaU7eXWCg"
      },
      "source": [
        "Видно, что данные плохо сбалансированны, что будет учтено далее."
      ]
    },
    {
      "cell_type": "markdown",
      "metadata": {
        "id": "LjaDSc8BXWCh"
      },
      "source": [
        "Возраст лежит в диапазоне от 40 до 60 лет, показатели анемии, диабета, пола и курения бинарные. Значения лежат в допустимых нормах."
      ]
    },
    {
      "cell_type": "markdown",
      "metadata": {
        "id": "HxGxXYsgXWCh"
      },
      "source": [
        "## Разведочный анализ"
      ]
    },
    {
      "cell_type": "markdown",
      "metadata": {
        "id": "tZbEGPyyXWCh"
      },
      "source": [
        "Нужно посмотреть на графики, выявить тенденции, аномалии и взаимосвязи."
      ]
    },
    {
      "cell_type": "code",
      "metadata": {
        "id": "M25M8h5heJx6"
      },
      "source": [
        "num_cols = ['creatinine_phosphokinase', 'ejection_fraction','platelets','serum_creatinine','serum_sodium']\n",
        "cat_cols = ['anaemia', 'diabetes','high_blood_pressure','sex','smoking','age','time']"
      ],
      "execution_count": null,
      "outputs": []
    },
    {
      "cell_type": "markdown",
      "metadata": {
        "id": "i9osa3JJYgrb"
      },
      "source": [
        "Ниже приведен график корреляции. Сильные корреляции между признакоми не видны."
      ]
    },
    {
      "cell_type": "code",
      "metadata": {
        "colab": {
          "base_uri": "https://localhost:8080/",
          "height": 674
        },
        "id": "l2JfoRewXWCh",
        "outputId": "e6f370e4-7482-4938-98c0-ee92e1d3d23f"
      },
      "source": [
        "corrmat = heart.corr()\n",
        "f, ax = plt.subplots(figsize=(20, 9))\n",
        "sns.heatmap(corrmat, vmax=0.5, annot=True);"
      ],
      "execution_count": null,
      "outputs": [
        {
          "output_type": "display_data",
          "data": {
            "image/png": "[encoded data removed]",
            "text/plain": [
              "<Figure size 1440x648 with 2 Axes>"
            ]
          },
          "metadata": {
            "tags": [],
            "needs_background": "light"
          }
        }
      ]
    },
    {
      "cell_type": "markdown",
      "metadata": {
        "id": "qOgsjMWjfUHr"
      },
      "source": [
        "Посмотримм графики распределения. Четких зависимостей не видно."
      ]
    },
    {
      "cell_type": "code",
      "metadata": {
        "colab": {
          "base_uri": "https://localhost:8080/",
          "height": 762
        },
        "id": "yyS-PzdBXWCh",
        "scrolled": false,
        "outputId": "64ce42e2-2de9-42ec-c2fd-a729eb7645f5"
      },
      "source": [
        "plt.figure(figsize = (25,15))\n",
        "for idx,col in enumerate(heart[cat_cols]):\n",
        "    plt.subplot(4,2,idx+1)\n",
        "    sns.countplot(x=heart[col], hue=heart.DEATH_EVENT)\n",
        "None"
      ],
      "execution_count": null,
      "outputs": [
        {
          "output_type": "display_data",
          "data": {
            "image/png": "[encoded data removed]",
            "text/plain": [
              "<Figure size 1800x1080 with 7 Axes>"
            ]
          },
          "metadata": {
            "tags": [],
            "needs_background": "light"
          }
        }
      ]
    },
    {
      "cell_type": "markdown",
      "metadata": {
        "id": "qSvx9dkxgx4_"
      },
      "source": [
        "Посмотрим на распределение числовых признаков и наличие выбросов.\n"
      ]
    },
    {
      "cell_type": "code",
      "metadata": {
        "colab": {
          "base_uri": "https://localhost:8080/",
          "height": 671
        },
        "id": "S5la-wpGgxKU",
        "outputId": "da5842d5-5a00-417b-cb87-ec0f2ebbf7a6"
      },
      "source": [
        "plt.figure(figsize = (20,15))\n",
        "for idx,col in enumerate(heart[num_cols]):\n",
        "    plt.subplot(4,2,idx+1)\n",
        "    sns.histplot(x=heart[col], hue=heart.DEATH_EVENT)\n",
        "None"
      ],
      "execution_count": null,
      "outputs": [
        {
          "output_type": "display_data",
          "data": {
            "image/png": "[encoded data removed]",
            "text/plain": [
              "<Figure size 1440x1080 with 5 Axes>"
            ]
          },
          "metadata": {
            "tags": [],
            "needs_background": "light"
          }
        }
      ]
    },
    {
      "cell_type": "markdown",
      "metadata": {
        "id": "QYsiWOJJiEkI"
      },
      "source": [
        " У столбцов creatinine_phosphokinase, platelets и serum_creatinine сильные хвосты распределения. Я не уверена, могут ли эти переменные принимать такие значения, однако удалять их не буду, так как данных и так слишком мало.\n",
        "\n",
        " Для пердварительной обработки буду использовать Robust Scaler."
      ]
    },
    {
      "cell_type": "code",
      "metadata": {
        "id": "JfngvFyph0zq"
      },
      "source": [
        "#heart = heart[(heart.platelets<600000)&(heart.creatinine_phosphokinase<4000)&(heart.serum_creatinine<5)]\n",
        "#heart"
      ],
      "execution_count": null,
      "outputs": []
    },
    {
      "cell_type": "markdown",
      "metadata": {
        "id": "9Nl57KWzXWCi"
      },
      "source": [
        "## Генерация признаков"
      ]
    },
    {
      "cell_type": "markdown",
      "metadata": {
        "id": "0BJuJYK6ZSqH"
      },
      "source": [
        "Попробуем сгенерировать несколько дополнительных признаков."
      ]
    },
    {
      "cell_type": "code",
      "metadata": {
        "id": "Z06BeqhEXWCi"
      },
      "source": [
        "heart['bad_health'] = heart.anaemia*heart.diabetes*heart.high_blood_pressure*heart.smoking\n",
        "heart['old'] = np.where(heart.age>70, 1, 0)\n",
        "heart['big_time'] = np.where(heart.time>40, 1, 0)"
      ],
      "execution_count": null,
      "outputs": []
    },
    {
      "cell_type": "code",
      "metadata": {
        "colab": {
          "base_uri": "https://localhost:8080/",
          "height": 224
        },
        "id": "BqKfCeModClb",
        "outputId": "7f26cb10-f35c-461f-8d57-76baea87ce4b"
      },
      "source": [
        "heart.head(5)"
      ],
      "execution_count": null,
      "outputs": [
        {
          "output_type": "execute_result",
          "data": {
            "text/html": [
              "<div>\n",
              "<style scoped>\n",
              "    .dataframe tbody tr th:only-of-type {\n",
              "        vertical-align: middle;\n",
              "    }\n",
              "\n",
              "    .dataframe tbody tr th {\n",
              "        vertical-align: top;\n",
              "    }\n",
              "\n",
              "    .dataframe thead th {\n",
              "        text-align: right;\n",
              "    }\n",
              "</style>\n",
              "<table border=\"1\" class=\"dataframe\">\n",
              "  <thead>\n",
              "    <tr style=\"text-align: right;\">\n",
              "      <th></th>\n",
              "      <th>age</th>\n",
              "      <th>anaemia</th>\n",
              "      <th>creatinine_phosphokinase</th>\n",
              "      <th>diabetes</th>\n",
              "      <th>ejection_fraction</th>\n",
              "      <th>high_blood_pressure</th>\n",
              "      <th>platelets</th>\n",
              "      <th>serum_creatinine</th>\n",
              "      <th>serum_sodium</th>\n",
              "      <th>sex</th>\n",
              "      <th>smoking</th>\n",
              "      <th>time</th>\n",
              "      <th>DEATH_EVENT</th>\n",
              "      <th>bad_health</th>\n",
              "      <th>old</th>\n",
              "      <th>big_time</th>\n",
              "    </tr>\n",
              "  </thead>\n",
              "  <tbody>\n",
              "    <tr>\n",
              "      <th>0</th>\n",
              "      <td>75.0</td>\n",
              "      <td>0</td>\n",
              "      <td>582</td>\n",
              "      <td>0</td>\n",
              "      <td>20</td>\n",
              "      <td>1</td>\n",
              "      <td>265000.00</td>\n",
              "      <td>1.9</td>\n",
              "      <td>130</td>\n",
              "      <td>1</td>\n",
              "      <td>0</td>\n",
              "      <td>4</td>\n",
              "      <td>1</td>\n",
              "      <td>0</td>\n",
              "      <td>1</td>\n",
              "      <td>0</td>\n",
              "    </tr>\n",
              "    <tr>\n",
              "      <th>1</th>\n",
              "      <td>55.0</td>\n",
              "      <td>0</td>\n",
              "      <td>7861</td>\n",
              "      <td>0</td>\n",
              "      <td>38</td>\n",
              "      <td>0</td>\n",
              "      <td>263358.03</td>\n",
              "      <td>1.1</td>\n",
              "      <td>136</td>\n",
              "      <td>1</td>\n",
              "      <td>0</td>\n",
              "      <td>6</td>\n",
              "      <td>1</td>\n",
              "      <td>0</td>\n",
              "      <td>0</td>\n",
              "      <td>0</td>\n",
              "    </tr>\n",
              "    <tr>\n",
              "      <th>2</th>\n",
              "      <td>65.0</td>\n",
              "      <td>0</td>\n",
              "      <td>146</td>\n",
              "      <td>0</td>\n",
              "      <td>20</td>\n",
              "      <td>0</td>\n",
              "      <td>162000.00</td>\n",
              "      <td>1.3</td>\n",
              "      <td>129</td>\n",
              "      <td>1</td>\n",
              "      <td>1</td>\n",
              "      <td>7</td>\n",
              "      <td>1</td>\n",
              "      <td>0</td>\n",
              "      <td>0</td>\n",
              "      <td>0</td>\n",
              "    </tr>\n",
              "    <tr>\n",
              "      <th>3</th>\n",
              "      <td>50.0</td>\n",
              "      <td>1</td>\n",
              "      <td>111</td>\n",
              "      <td>0</td>\n",
              "      <td>20</td>\n",
              "      <td>0</td>\n",
              "      <td>210000.00</td>\n",
              "      <td>1.9</td>\n",
              "      <td>137</td>\n",
              "      <td>1</td>\n",
              "      <td>0</td>\n",
              "      <td>7</td>\n",
              "      <td>1</td>\n",
              "      <td>0</td>\n",
              "      <td>0</td>\n",
              "      <td>0</td>\n",
              "    </tr>\n",
              "    <tr>\n",
              "      <th>4</th>\n",
              "      <td>65.0</td>\n",
              "      <td>1</td>\n",
              "      <td>160</td>\n",
              "      <td>1</td>\n",
              "      <td>20</td>\n",
              "      <td>0</td>\n",
              "      <td>327000.00</td>\n",
              "      <td>2.7</td>\n",
              "      <td>116</td>\n",
              "      <td>0</td>\n",
              "      <td>0</td>\n",
              "      <td>8</td>\n",
              "      <td>1</td>\n",
              "      <td>0</td>\n",
              "      <td>0</td>\n",
              "      <td>0</td>\n",
              "    </tr>\n",
              "  </tbody>\n",
              "</table>\n",
              "</div>"
            ],
            "text/plain": [
              "    age  anaemia  creatinine_phosphokinase  ...  bad_health  old  big_time\n",
              "0  75.0        0                       582  ...           0    1         0\n",
              "1  55.0        0                      7861  ...           0    0         0\n",
              "2  65.0        0                       146  ...           0    0         0\n",
              "3  50.0        1                       111  ...           0    0         0\n",
              "4  65.0        1                       160  ...           0    0         0\n",
              "\n",
              "[5 rows x 16 columns]"
            ]
          },
          "metadata": {
            "tags": []
          },
          "execution_count": 12
        }
      ]
    },
    {
      "cell_type": "markdown",
      "metadata": {
        "id": "oX7wvnwFXWCj"
      },
      "source": [
        "Подготовим данные для машинного обучения. Разделим выборки на обучающую и валидационную."
      ]
    },
    {
      "cell_type": "code",
      "metadata": {
        "id": "Fx7VT10oaMpf"
      },
      "source": [
        "y = heart.DEATH_EVENT\n",
        "X = heart.drop(['DEATH_EVENT'], axis=1)"
      ],
      "execution_count": null,
      "outputs": []
    },
    {
      "cell_type": "code",
      "metadata": {
        "colab": {
          "base_uri": "https://localhost:8080/"
        },
        "id": "8qjYOYx-XWCj",
        "outputId": "3cb5a4a9-b13d-4c80-f148-3faf744b5538"
      },
      "source": [
        "X_train, X_test, y_train, y_test = train_test_split(X, y, train_size=0.8, random_state=42, stratify = y)\n",
        "print(X_train.shape, X_test.shape)"
      ],
      "execution_count": null,
      "outputs": [
        {
          "output_type": "stream",
          "text": [
            "(239, 15) (60, 15)\n"
          ],
          "name": "stdout"
        }
      ]
    },
    {
      "cell_type": "markdown",
      "metadata": {
        "id": "AcERWl3bXWCj"
      },
      "source": [
        "Признаки имеют разные приделы значений, поэтому масштабируем их."
      ]
    },
    {
      "cell_type": "markdown",
      "metadata": {
        "id": "uGyqiXjOklus"
      },
      "source": [
        "### Oversampling\n",
        "\n",
        "Данных слишком мало и выборка не сбалансирована, поэтому к обучающему набору попробуем применить алгоритм SMOTE для добавления новых строк и балансировки."
      ]
    },
    {
      "cell_type": "code",
      "metadata": {
        "colab": {
          "base_uri": "https://localhost:8080/"
        },
        "id": "TIAZvwK1lER7",
        "outputId": "54911d64-6ff1-4170-d9a4-d4cf9bda6f2d"
      },
      "source": [
        "oversample = SMOTE()\n",
        "X_train_smote, y_train_smote = oversample.fit_resample(X_train, y_train.values.ravel())\n",
        "X_train = pd.DataFrame(X_train_smote, columns=X_train.columns)\n",
        "y_train = y_train_smote"
      ],
      "execution_count": null,
      "outputs": [
        {
          "output_type": "stream",
          "text": [
            "/usr/local/lib/python3.7/dist-packages/sklearn/utils/deprecation.py:87: FutureWarning: Function safe_indexing is deprecated; safe_indexing is deprecated in version 0.22 and will be removed in version 0.24.\n",
            "  warnings.warn(msg, category=FutureWarning)\n"
          ],
          "name": "stderr"
        }
      ]
    },
    {
      "cell_type": "code",
      "metadata": {
        "colab": {
          "base_uri": "https://localhost:8080/"
        },
        "id": "eNsUXy4NsBOF",
        "outputId": "4da8d4d8-b810-4d5a-9263-b9e93db06888"
      },
      "source": [
        "X_train.shape, y_train.shape"
      ],
      "execution_count": null,
      "outputs": [
        {
          "output_type": "execute_result",
          "data": {
            "text/plain": [
              "((324, 15), (324,))"
            ]
          },
          "metadata": {
            "tags": []
          },
          "execution_count": 16
        }
      ]
    },
    {
      "cell_type": "markdown",
      "metadata": {
        "id": "3yJ9Pw6GXWCj"
      },
      "source": [
        "## Выбор оптимальной модели"
      ]
    },
    {
      "cell_type": "markdown",
      "metadata": {
        "id": "Sswb0-zrXWCj"
      },
      "source": [
        "Будем использовать несколько моделей, а затем сравним результаты. Для линейных моделей признаки нужно стандартизировать, сделаем это с помощью make pipeline.\n",
        "\n",
        "Важно, чтобы все люди, которые могут умереть были выявлены, поэтому за основную метрику я приняла полноту (recall)."
      ]
    },
    {
      "cell_type": "code",
      "metadata": {
        "colab": {
          "base_uri": "https://localhost:8080/"
        },
        "id": "03KzAjJwbb3l",
        "outputId": "d91a593c-a6ef-43e5-d104-c7a3e7a2952d"
      },
      "source": [
        "lr = make_pipeline(RobustScaler(), LogisticRegression(C=10))\n",
        "lr.fit(X_train, y_train)\n",
        "lr_pred = lr.predict(X_test)\n",
        "\n",
        "lr_recall = recall_score(y_test, lr_pred)\n",
        "lr_rocauc = roc_auc_score(y_test, lr_pred)\n",
        "\n",
        "print(f\"Результат Логистической регрессии на тестовом наборе: roc auc = {round(lr_rocauc,3)}, recall = {round(lr_recall,3)}\")"
      ],
      "execution_count": null,
      "outputs": [
        {
          "output_type": "stream",
          "text": [
            "Результат Логистической регрессии на тестовом наборе: roc auc = 0.69, recall = 0.526\n"
          ],
          "name": "stdout"
        }
      ]
    },
    {
      "cell_type": "code",
      "metadata": {
        "colab": {
          "base_uri": "https://localhost:8080/"
        },
        "id": "E8dsv-iqc7RO",
        "outputId": "5acdcf24-4ce4-4735-b566-cd76fc265776"
      },
      "source": [
        "knn = make_pipeline(StandardScaler(), KNeighborsClassifier(n_neighbors=3))\n",
        "knn.fit(X_train, y_train)\n",
        "knn_pred = knn.predict(X_test)\n",
        "\n",
        "knn_recall = recall_score(y_test, knn_pred)\n",
        "knn_rocauc = roc_auc_score(y_test, knn_pred)\n",
        "\n",
        "print(f\"Результат KNN на тестовом наборе: roc auc = {round(knn_rocauc,3)}, recall = {round(knn_recall,3)}\")"
      ],
      "execution_count": null,
      "outputs": [
        {
          "output_type": "stream",
          "text": [
            "Результат KNN на тестовом наборе: roc auc = 0.69, recall = 0.526\n"
          ],
          "name": "stdout"
        }
      ]
    },
    {
      "cell_type": "code",
      "metadata": {
        "colab": {
          "base_uri": "https://localhost:8080/"
        },
        "id": "TMBXb6mLd4PH",
        "outputId": "61d950be-63eb-4855-9599-2972067f979f"
      },
      "source": [
        "rf = RandomForestClassifier(random_state = 42)\n",
        "rf.fit(X_train, y_train)\n",
        "rf_pred = rf.predict(X_test)\n",
        "\n",
        "rf_recall = recall_score(y_test, rf_pred)\n",
        "rf_rocauc = roc_auc_score(y_test, rf_pred)\n",
        "\n",
        "print(f\"Результат Случайного леса на тестовом наборе: roc auc = {round(rf_rocauc,3)}, recall = {round(rf_recall,3)}\")"
      ],
      "execution_count": null,
      "outputs": [
        {
          "output_type": "stream",
          "text": [
            "Результат Случайного леса на тестовом наборе: roc auc = 0.767, recall = 0.632\n"
          ],
          "name": "stdout"
        }
      ]
    },
    {
      "cell_type": "code",
      "metadata": {
        "colab": {
          "base_uri": "https://localhost:8080/"
        },
        "id": "M5zjUTy-egl8",
        "outputId": "d0c070cd-2b85-4aff-971b-6b2d9ec29d61"
      },
      "source": [
        "xgb = XGBClassifier(random_state = 42)\n",
        "xgb.fit(X_train, y_train)\n",
        "xgb_pred = xgb.predict(X_test)\n",
        "\n",
        "xgb_recall = recall_score(y_test, xgb_pred)\n",
        "xgb_rocauc = roc_auc_score(y_test, xgb_pred)\n",
        "\n",
        "print(f\"Результат Градиентного бустинга на тестовом наборе: roc auc = {round(xgb_rocauc,3)}, recall = {round(xgb_recall,3)}\")"
      ],
      "execution_count": null,
      "outputs": [
        {
          "output_type": "stream",
          "text": [
            "Результат Градиентного бустинга на тестовом наборе: roc auc = 0.753, recall = 0.579\n"
          ],
          "name": "stdout"
        }
      ]
    },
    {
      "cell_type": "markdown",
      "metadata": {
        "id": "95n8Gvp2XWCl"
      },
      "source": [
        "Отобразим полученные результаты на графике"
      ]
    },
    {
      "cell_type": "code",
      "metadata": {
        "colab": {
          "base_uri": "https://localhost:8080/",
          "height": 310
        },
        "id": "TErV8GvZXWCl",
        "outputId": "d8098b12-dbc4-4ded-f48f-19048797634f"
      },
      "source": [
        "# Dataframe to hold the results\n",
        "model_comparison = pd.DataFrame({'model': ['Logistic Regression',\n",
        "                                           'Random Forest', 'Gradient Boosting',\n",
        "                                            'K-Nearest Neighbors'],\n",
        "                                 'recall': [lr_recall, rf_recall,xgb_recall, knn_recall]})\n",
        "\n",
        "\n",
        "model_comparison.sort_values('recall', ascending = False).plot(x = 'model', y = 'recall', kind = 'barh',\n",
        "                                                           color = 'red', edgecolor = 'black')\n",
        "\n",
        "# Plot formatting\n",
        "plt.ylabel(''); plt.yticks(size = 14); plt.xlabel('Recall'); plt.xticks(size = 14)\n",
        "plt.title('Сравнение моделей', size = 20);"
      ],
      "execution_count": null,
      "outputs": [
        {
          "output_type": "display_data",
          "data": {
            "image/png": "[encoded data removed]",
            "text/plain": [
              "<Figure size 432x288 with 1 Axes>"
            ]
          },
          "metadata": {
            "tags": [],
            "needs_background": "light"
          }
        }
      ]
    },
    {
      "cell_type": "markdown",
      "metadata": {
        "id": "AjPb2NQtXWCm"
      },
      "source": [
        "Лучший результат на дефолтных параметрах показывают Случайный лес и Логистическая регрессия.\n"
      ]
    },
    {
      "cell_type": "markdown",
      "metadata": {
        "id": "usR5x1zcXWCm"
      },
      "source": [
        "## Оптимизация гиперпараметров"
      ]
    },
    {
      "cell_type": "markdown",
      "metadata": {
        "id": "32PtYj4Ffnj-"
      },
      "source": [
        "Попробум настроить параметры моделей. Возьмем логистическую регрессию и случайный лес."
      ]
    },
    {
      "cell_type": "markdown",
      "metadata": {
        "id": "9rG5nSjthAWh"
      },
      "source": [
        "Логистическая регрессия"
      ]
    },
    {
      "cell_type": "code",
      "metadata": {
        "colab": {
          "base_uri": "https://localhost:8080/"
        },
        "id": "vdHT2BMFf_LG",
        "outputId": "32ecfc62-8304-490a-cc3c-8e1145d84587"
      },
      "source": [
        "logistic = make_pipeline(RobustScaler(), LogisticRegressionCV(refit=True, scoring='recall', random_state=42))\n",
        "logistic.fit(X_train, y_train)\n",
        "logistic_pred_train = logistic.predict(X_train)\n",
        "logistic_pred = logistic.predict(X_test)\n",
        "\n",
        "print(f\"Результат на обучающей выборке: roc_auc = {round(roc_auc_score(y_train,logistic_pred_train),3)}, recall = {round(recall_score(y_train,logistic_pred_train),3)}\")\n",
        "print(f\"Результат на тестовой выборке: roc_auc = {round(roc_auc_score(y_test,logistic_pred),3)}, recall = {round(recall_score(y_test,logistic_pred),3)}\")"
      ],
      "execution_count": null,
      "outputs": [
        {
          "output_type": "stream",
          "text": [
            "Результат на обучающей выборке: roc_auc = 0.889, recall = 0.883\n",
            "Результат на тестовой выборке: roc_auc = 0.69, recall = 0.526\n"
          ],
          "name": "stdout"
        }
      ]
    },
    {
      "cell_type": "markdown",
      "metadata": {
        "id": "xlLar-0jf-8f"
      },
      "source": [
        "Случайный лес"
      ]
    },
    {
      "cell_type": "code",
      "metadata": {
        "id": "hPZkaxtVXWCm"
      },
      "source": [
        "random_forest = RandomForestClassifier(random_state = 42)"
      ],
      "execution_count": null,
      "outputs": []
    },
    {
      "cell_type": "code",
      "metadata": {
        "id": "NawNnIszXWCm"
      },
      "source": [
        "params = {\n",
        "        'n_estimators': [50,150,200,300],\n",
        "        'max_depth': [5,10,20,50],\n",
        "        'min_samples_split': [1,5,10],\n",
        "        'min_samples_leaf' : [1, 2],          \n",
        "        }"
      ],
      "execution_count": null,
      "outputs": []
    },
    {
      "cell_type": "code",
      "metadata": {
        "id": "wnJhDz93XWCm"
      },
      "source": [
        "clf = GridSearchCV(random_forest, params, n_jobs=-1, cv=5, scoring='recall', verbose=3, refit=True)"
      ],
      "execution_count": null,
      "outputs": []
    },
    {
      "cell_type": "code",
      "metadata": {
        "colab": {
          "base_uri": "https://localhost:8080/"
        },
        "id": "BOPU0ftOXWCn",
        "outputId": "b2f8a459-82ae-4ac0-f5dd-e3a16425a358"
      },
      "source": [
        "%%time\n",
        "clf.fit(X_train, y_train)"
      ],
      "execution_count": null,
      "outputs": [
        {
          "output_type": "stream",
          "text": [
            "Fitting 5 folds for each of 96 candidates, totalling 480 fits\n"
          ],
          "name": "stdout"
        },
        {
          "output_type": "stream",
          "text": [
            "[Parallel(n_jobs=-1)]: Using backend LokyBackend with 2 concurrent workers.\n",
            "[Parallel(n_jobs=-1)]: Done  28 tasks      | elapsed:    4.1s\n",
            "[Parallel(n_jobs=-1)]: Done 124 tasks      | elapsed:   23.7s\n",
            "[Parallel(n_jobs=-1)]: Done 284 tasks      | elapsed:   52.9s\n"
          ],
          "name": "stderr"
        },
        {
          "output_type": "stream",
          "text": [
            "CPU times: user 2.24 s, sys: 127 ms, total: 2.36 s\n",
            "Wall time: 1min 31s\n"
          ],
          "name": "stdout"
        },
        {
          "output_type": "stream",
          "text": [
            "[Parallel(n_jobs=-1)]: Done 480 out of 480 | elapsed:  1.5min finished\n"
          ],
          "name": "stderr"
        },
        {
          "output_type": "execute_result",
          "data": {
            "text/plain": [
              "GridSearchCV(cv=5, error_score=nan,\n",
              "             estimator=RandomForestClassifier(bootstrap=True, ccp_alpha=0.0,\n",
              "                                              class_weight=None,\n",
              "                                              criterion='gini', max_depth=None,\n",
              "                                              max_features='auto',\n",
              "                                              max_leaf_nodes=None,\n",
              "                                              max_samples=None,\n",
              "                                              min_impurity_decrease=0.0,\n",
              "                                              min_impurity_split=None,\n",
              "                                              min_samples_leaf=1,\n",
              "                                              min_samples_split=2,\n",
              "                                              min_weight_fraction_leaf=0.0,\n",
              "                                              n_estimators=100, n_jobs=None,\n",
              "                                              oob_score=False, random_state=42,\n",
              "                                              verbose=0, warm_start=False),\n",
              "             iid='deprecated', n_jobs=-1,\n",
              "             param_grid={'max_depth': [5, 10, 20, 50],\n",
              "                         'min_samples_leaf': [1, 2],\n",
              "                         'min_samples_split': [1, 5, 10],\n",
              "                         'n_estimators': [50, 150, 200, 300]},\n",
              "             pre_dispatch='2*n_jobs', refit=True, return_train_score=False,\n",
              "             scoring='recall', verbose=3)"
            ]
          },
          "metadata": {
            "tags": []
          },
          "execution_count": 26
        }
      ]
    },
    {
      "cell_type": "code",
      "metadata": {
        "colab": {
          "base_uri": "https://localhost:8080/"
        },
        "id": "0pC0lf14bK4Z",
        "outputId": "b90ea513-297d-4329-84eb-b5bb0ebca3d5"
      },
      "source": [
        "clf.best_score_"
      ],
      "execution_count": null,
      "outputs": [
        {
          "output_type": "execute_result",
          "data": {
            "text/plain": [
              "0.9005681818181819"
            ]
          },
          "metadata": {
            "tags": []
          },
          "execution_count": 27
        }
      ]
    },
    {
      "cell_type": "code",
      "metadata": {
        "colab": {
          "base_uri": "https://localhost:8080/"
        },
        "id": "XSoy_UYiXWCn",
        "outputId": "3c6cf40f-c442-471b-c59e-a146ccf2a2ec"
      },
      "source": [
        "# Лучшие параметры, которые подобрались с помощью поиска по сетке\n",
        "clf.best_params_"
      ],
      "execution_count": null,
      "outputs": [
        {
          "output_type": "execute_result",
          "data": {
            "text/plain": [
              "{'max_depth': 10,\n",
              " 'min_samples_leaf': 1,\n",
              " 'min_samples_split': 10,\n",
              " 'n_estimators': 50}"
            ]
          },
          "metadata": {
            "tags": []
          },
          "execution_count": 28
        }
      ]
    },
    {
      "cell_type": "code",
      "metadata": {
        "id": "WkFNR3mtz4aJ"
      },
      "source": [
        "best_clf = clf.best_estimator_\n"
      ],
      "execution_count": null,
      "outputs": []
    },
    {
      "cell_type": "code",
      "metadata": {
        "colab": {
          "base_uri": "https://localhost:8080/"
        },
        "id": "R8B2OX3RGPUW",
        "outputId": "1b05c4ef-d132-4c1b-9e0f-83c07ebd4302"
      },
      "source": [
        "clf_pred_train = best_clf.predict(X_train)\n",
        "clf_pred = best_clf.predict(X_test)\n",
        "\n",
        "print(f\"Результат на обучающей выборке: roc_auc = {round(roc_auc_score(y_train,clf_pred_train),3)}, recall = {round(recall_score(y_train,clf_pred_train),3)}\")\n",
        "print(f\"Результат на тестовой выборке: roc_auc = {round(roc_auc_score(y_test,clf_pred),3)}, recall = {round(recall_score(y_test,clf_pred),3)}\")"
      ],
      "execution_count": null,
      "outputs": [
        {
          "output_type": "stream",
          "text": [
            "Результат на обучающей выборке: roc_auc = 0.972, recall = 0.975\n",
            "Результат на тестовой выборке: roc_auc = 0.741, recall = 0.579\n"
          ],
          "name": "stdout"
        }
      ]
    },
    {
      "cell_type": "code",
      "metadata": {
        "colab": {
          "base_uri": "https://localhost:8080/"
        },
        "id": "EFrx20v1vU2c",
        "outputId": "9958855a-4678-420f-b8f7-aa09a498d347"
      },
      "source": [
        "roc_auc_score(y_test,best_clf.predict_proba(X_test)[:,1])"
      ],
      "execution_count": null,
      "outputs": [
        {
          "output_type": "execute_result",
          "data": {
            "text/plain": [
              "0.8908857509627728"
            ]
          },
          "metadata": {
            "tags": []
          },
          "execution_count": 31
        }
      ]
    },
    {
      "cell_type": "markdown",
      "metadata": {
        "id": "XEgGSWtPXWCo"
      },
      "source": [
        "## Обработка результатов"
      ]
    },
    {
      "cell_type": "markdown",
      "metadata": {
        "id": "PVHzSuqoXWCo"
      },
      "source": [
        "Исследуем важность признаков."
      ]
    },
    {
      "cell_type": "code",
      "metadata": {
        "id": "b3hM4HjoXWCo",
        "colab": {
          "base_uri": "https://localhost:8080/",
          "height": 514
        },
        "outputId": "46804de4-55a1-4d50-a74c-9b6803928a3a"
      },
      "source": [
        "importances = best_clf.feature_importances_\n",
        "\n",
        "feature_list = list(X.columns)\n",
        "\n",
        "feature_results = pd.DataFrame({'feature': feature_list,'importance': importances})\n",
        "\n",
        "feature_results = feature_results.sort_values('importance',ascending = False).reset_index(drop=True)\n",
        "\n",
        "feature_results"
      ],
      "execution_count": null,
      "outputs": [
        {
          "output_type": "execute_result",
          "data": {
            "text/html": [
              "<div>\n",
              "<style scoped>\n",
              "    .dataframe tbody tr th:only-of-type {\n",
              "        vertical-align: middle;\n",
              "    }\n",
              "\n",
              "    .dataframe tbody tr th {\n",
              "        vertical-align: top;\n",
              "    }\n",
              "\n",
              "    .dataframe thead th {\n",
              "        text-align: right;\n",
              "    }\n",
              "</style>\n",
              "<table border=\"1\" class=\"dataframe\">\n",
              "  <thead>\n",
              "    <tr style=\"text-align: right;\">\n",
              "      <th></th>\n",
              "      <th>feature</th>\n",
              "      <th>importance</th>\n",
              "    </tr>\n",
              "  </thead>\n",
              "  <tbody>\n",
              "    <tr>\n",
              "      <th>0</th>\n",
              "      <td>big_time</td>\n",
              "      <td>0.234263</td>\n",
              "    </tr>\n",
              "    <tr>\n",
              "      <th>1</th>\n",
              "      <td>time</td>\n",
              "      <td>0.205455</td>\n",
              "    </tr>\n",
              "    <tr>\n",
              "      <th>2</th>\n",
              "      <td>serum_creatinine</td>\n",
              "      <td>0.147773</td>\n",
              "    </tr>\n",
              "    <tr>\n",
              "      <th>3</th>\n",
              "      <td>ejection_fraction</td>\n",
              "      <td>0.121003</td>\n",
              "    </tr>\n",
              "    <tr>\n",
              "      <th>4</th>\n",
              "      <td>creatinine_phosphokinase</td>\n",
              "      <td>0.049652</td>\n",
              "    </tr>\n",
              "    <tr>\n",
              "      <th>5</th>\n",
              "      <td>serum_sodium</td>\n",
              "      <td>0.047412</td>\n",
              "    </tr>\n",
              "    <tr>\n",
              "      <th>6</th>\n",
              "      <td>old</td>\n",
              "      <td>0.046488</td>\n",
              "    </tr>\n",
              "    <tr>\n",
              "      <th>7</th>\n",
              "      <td>platelets</td>\n",
              "      <td>0.046397</td>\n",
              "    </tr>\n",
              "    <tr>\n",
              "      <th>8</th>\n",
              "      <td>age</td>\n",
              "      <td>0.026847</td>\n",
              "    </tr>\n",
              "    <tr>\n",
              "      <th>9</th>\n",
              "      <td>high_blood_pressure</td>\n",
              "      <td>0.024269</td>\n",
              "    </tr>\n",
              "    <tr>\n",
              "      <th>10</th>\n",
              "      <td>sex</td>\n",
              "      <td>0.016175</td>\n",
              "    </tr>\n",
              "    <tr>\n",
              "      <th>11</th>\n",
              "      <td>diabetes</td>\n",
              "      <td>0.014054</td>\n",
              "    </tr>\n",
              "    <tr>\n",
              "      <th>12</th>\n",
              "      <td>smoking</td>\n",
              "      <td>0.012777</td>\n",
              "    </tr>\n",
              "    <tr>\n",
              "      <th>13</th>\n",
              "      <td>anaemia</td>\n",
              "      <td>0.006642</td>\n",
              "    </tr>\n",
              "    <tr>\n",
              "      <th>14</th>\n",
              "      <td>bad_health</td>\n",
              "      <td>0.000795</td>\n",
              "    </tr>\n",
              "  </tbody>\n",
              "</table>\n",
              "</div>"
            ],
            "text/plain": [
              "                     feature  importance\n",
              "0                   big_time    0.234263\n",
              "1                       time    0.205455\n",
              "2           serum_creatinine    0.147773\n",
              "3          ejection_fraction    0.121003\n",
              "4   creatinine_phosphokinase    0.049652\n",
              "5               serum_sodium    0.047412\n",
              "6                        old    0.046488\n",
              "7                  platelets    0.046397\n",
              "8                        age    0.026847\n",
              "9        high_blood_pressure    0.024269\n",
              "10                       sex    0.016175\n",
              "11                  diabetes    0.014054\n",
              "12                   smoking    0.012777\n",
              "13                   anaemia    0.006642\n",
              "14                bad_health    0.000795"
            ]
          },
          "metadata": {
            "tags": []
          },
          "execution_count": 32
        }
      ]
    },
    {
      "cell_type": "markdown",
      "metadata": {
        "id": "77PJnlTCXWCp"
      },
      "source": [
        "## Выводы"
      ]
    },
    {
      "cell_type": "markdown",
      "metadata": {
        "id": "i5ps242LXWCp"
      },
      "source": [
        "В работе использовались модели машинного обучения для оценки вероятности смерти пациента от сердечной недостаточности.\n",
        "\n",
        "Построено несколько моделей и оценено их качество. \n",
        "\n",
        "Логистическая регрессия и случайный лес работают примерно одинаково, хотя даные линейно не разделимы."
      ]
    },
    {
      "cell_type": "code",
      "metadata": {
        "id": "-v7ECfZcKVhX"
      },
      "source": [
        ""
      ],
      "execution_count": null,
      "outputs": []
    }
  ]
}